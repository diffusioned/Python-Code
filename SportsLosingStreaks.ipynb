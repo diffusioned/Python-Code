{
 "cells": [
  {
   "cell_type": "markdown",
   "metadata": {
    "collapsed": true
   },
   "source": [
    "### Sports Losing Streaks\n",
    "\n",
    "This is a notebook I created to demonstrate how long-run losing streaks in sports **aren't** all that rare.\n",
    "\n",
    "The first variable is the number of years/seasons you want your simulation to run.  My default here is 100."
   ]
  },
  {
   "cell_type": "code",
   "execution_count": 72,
   "metadata": {
    "collapsed": true
   },
   "outputs": [],
   "source": [
    "%matplotlib inline\n",
    "# Set Matplotlib to print on this notebook as opposed to producing a new window\n",
    "# Import libraries\n",
    "import random\n",
    "import matplotlib.pyplot as plt\n",
    "import numpy as np\n",
    "# Number of years/seasons to simulate\n",
    "NumberOfYears = 100"
   ]
  },
  {
   "cell_type": "markdown",
   "metadata": {},
   "source": [
    "Next create an array of all teams in your league.  I used the current MLB teams."
   ]
  },
  {
   "cell_type": "code",
   "execution_count": 73,
   "metadata": {
    "collapsed": false
   },
   "outputs": [],
   "source": [
    "TeamArray = ['Arizona Diamondbacks','Atlanta Braves','Baltimore Orioles','Boston Red Sox','Chicago White Sox','Chicago Cubs',\\\n",
    "    'Cincinnati Reds','Cleveland Indians','Colorado Rockies','Detroit Tigers','Houston Astros',\\\n",
    "    'Kansas City Royals','Los Angeles Angels','Los Angeles Dodgers','Miami Marlins','Milwaukee Brewers',\\\n",
    "    'Minnesota Twins','New York Mets','New York Yankees','Oakland Athletics','Philadelphia Phillies','Pittsburgh Pirates',\\\n",
    "    'San Diego Padres','San Francisco Giants','Seattle Mariners','St. Louis Cardinals','Tampa Bay Rays','Texas Rangers',\\\n",
    "    'Toronto Blue Jays','Washington Nationals']\n",
    "NumberOfTeams = len(TeamArray)"
   ]
  },
  {
   "cell_type": "markdown",
   "metadata": {},
   "source": [
    "Loop through the number of years and randomly select the winner that year.  We are assuming that for each year, each team has an equal probability of winning (uniformly distributed)."
   ]
  },
  {
   "cell_type": "code",
   "execution_count": 74,
   "metadata": {
    "collapsed": false
   },
   "outputs": [],
   "source": [
    "# Simulate the seasons\n",
    "YearlyVictor = np.zeros(NumberOfYears, dtype=np.int) # Declare array for the yearly winner\n",
    "for i in range(0, NumberOfYears):\n",
    "    YearlyVictor[i] = random.randint(0, NumberOfTeams-1) # Array index starts at zero"
   ]
  },
  {
   "cell_type": "markdown",
   "metadata": {},
   "source": [
    "We have simulated the winner for every year, let's look at the results."
   ]
  },
  {
   "cell_type": "code",
   "execution_count": 75,
   "metadata": {
    "collapsed": false
   },
   "outputs": [
    {
     "name": "stdout",
     "output_type": "stream",
     "text": [
      "Number of Victories for each team over 100 years\n",
      "Arizona Diamondbacks:  3\n",
      "Atlanta Braves:  5\n",
      "Baltimore Orioles:  1\n",
      "Boston Red Sox:  4\n",
      "Chicago White Sox:  0\n",
      "Chicago Cubs:  7\n",
      "Cincinnati Reds:  1\n",
      "Cleveland Indians:  2\n",
      "Colorado Rockies:  3\n",
      "Detroit Tigers:  5\n",
      "Houston Astros:  3\n",
      "Kansas City Royals:  1\n",
      "Los Angeles Angels:  2\n",
      "Los Angeles Dodgers:  1\n",
      "Miami Marlins:  2\n",
      "Milwaukee Brewers:  5\n",
      "Minnesota Twins:  5\n",
      "New York Mets:  3\n",
      "New York Yankees:  6\n",
      "Oakland Athletics:  3\n",
      "Philadelphia Phillies:  3\n",
      "Pittsburgh Pirates:  2\n",
      "San Diego Padres:  3\n",
      "San Francisco Giants:  7\n",
      "Seattle Mariners:  3\n",
      "St. Louis Cardinals:  7\n",
      "Tampa Bay Rays:  3\n",
      "Texas Rangers:  4\n",
      "Toronto Blue Jays:  3\n",
      "Washington Nationals:  3\n"
     ]
    }
   ],
   "source": [
    "# Find the number of victories for each team\n",
    "NumberOfVictories = np.zeros(NumberOfTeams, dtype=np.int)\n",
    "print('Number of Victories for each team over', NumberOfYears, 'years')\n",
    "NumberOfVictories = np.bincount(YearlyVictor, minlength=NumberOfTeams)\n",
    "for i in range(0,NumberOfTeams):\n",
    "    print(TeamArray[i] + ': ', NumberOfVictories[i])"
   ]
  },
  {
   "cell_type": "markdown",
   "metadata": {},
   "source": [
    "Let's see how long of a drought each team had, too."
   ]
  },
  {
   "cell_type": "code",
   "execution_count": 76,
   "metadata": {
    "collapsed": false
   },
   "outputs": [
    {
     "name": "stdout",
     "output_type": "stream",
     "text": [
      "Longest title drought for each team over 100 years\n",
      "Arizona Diamondbacks : 86\n",
      "Atlanta Braves : 26\n",
      "Baltimore Orioles : 98\n",
      "Boston Red Sox : 42\n",
      "Chicago White Sox did not win at all\n",
      "Chicago Cubs : 23\n",
      "Cincinnati Reds : 58\n",
      "Cleveland Indians : 63\n",
      "Colorado Rockies : 38\n",
      "Detroit Tigers : 65\n",
      "Houston Astros : 74\n",
      "Kansas City Royals : 86\n",
      "Los Angeles Angels : 49\n",
      "Los Angeles Dodgers : 97\n",
      "Miami Marlins : 42\n",
      "Milwaukee Brewers : 39\n",
      "Minnesota Twins : 33\n",
      "New York Mets : 70\n",
      "New York Yankees : 25\n",
      "Oakland Athletics : 60\n",
      "Philadelphia Phillies : 56\n",
      "Pittsburgh Pirates : 69\n",
      "San Diego Padres : 44\n",
      "San Francisco Giants : 25\n",
      "Seattle Mariners : 62\n",
      "St. Louis Cardinals : 21\n",
      "Tampa Bay Rays : 42\n",
      "Texas Rangers : 54\n",
      "Toronto Blue Jays : 37\n",
      "Washington Nationals : 35\n"
     ]
    }
   ],
   "source": [
    "# Find the longest drought between wins for a team\n",
    "LongestLosingStreak = np.zeros(NumberOfTeams, dtype=np.int) # Initialize to zero for each team\n",
    "print('Longest title drought for each team over', NumberOfYears, 'years')\n",
    "for i in range(0,NumberOfTeams):\n",
    "    if(NumberOfVictories[i] > 0):\n",
    "        CurTeamVictorYears = np.asarray(np.where(YearlyVictor == i))\n",
    "        # Append the year zero to the front of the array\n",
    "        CurTeamVictorYears = np.append(0, CurTeamVictorYears)\n",
    "        # Append the last year of the simulation to check the time between it and the last victory\n",
    "        CurTeamVictorYears = np.append(CurTeamVictorYears, NumberOfYears-1)\n",
    "        for j in range(1,len(CurTeamVictorYears)):\n",
    "            CurDiff = CurTeamVictorYears[j] - CurTeamVictorYears[j-1] \n",
    "            if(CurDiff > LongestLosingStreak[i]):\n",
    "                LongestLosingStreak[i] = CurDiff\n",
    "\n",
    "    # Change the print output depending on how many each team won\n",
    "    if(NumberOfVictories[i] == 0):\n",
    "        print(TeamArray[i], 'did not win at all')\n",
    "    else:\n",
    "        print(TeamArray[i], ':', LongestLosingStreak[i])\n",
    "        "
   ]
  },
  {
   "cell_type": "markdown",
   "metadata": {},
   "source": [
    "Optional: Show a histogram of the number of championships won by team"
   ]
  },
  {
   "cell_type": "code",
   "execution_count": 77,
   "metadata": {
    "collapsed": false
   },
   "outputs": [
    {
     "data": {
      "image/png": "[encoded data removed]",
      "text/plain": [
       "<matplotlib.figure.Figure at 0x7715e10>"
      ]
     },
     "metadata": {},
     "output_type": "display_data"
    }
   ],
   "source": [
    "# What is the maximum number of victories\n",
    "MinVictories = min(NumberOfVictories)\n",
    "MaxVictories = max(NumberOfVictories)\n",
    "BinValues = np.arange(-0.5,MaxVictories+1.5,1)\n",
    "plt.hist(NumberOfVictories, BinValues)\n",
    "plt.xlabel('Number Of Victories')\n",
    "plt.ylabel('Number Of Teams')\n",
    "plt.xlim(MinVictories-1,MaxVictories+1)\n",
    "plt.show()"
   ]
  }
 ],
 "metadata": {
  "kernelspec": {
   "display_name": "Python 3",
   "language": "python",
   "name": "python3"
  },
  "language_info": {
   "codemirror_mode": {
    "name": "ipython",
    "version": 3
   },
   "file_extension": ".py",
   "mimetype": "text/x-python",
   "name": "python",
   "nbconvert_exporter": "python",
   "pygments_lexer": "ipython3",
   "version": "3.5.1"
  }
 },
 "nbformat": 4,
 "nbformat_minor": 0
}
